{
 "cells": [
  {
   "cell_type": "markdown",
   "source": [
    "### 0. Install the package\n",
    "You need to install the abstcal package first. If you've done this already, you can skip this step."
   ],
   "metadata": {
    "collapsed": false,
    "pycharm": {
     "name": "#%% md\n"
    }
   }
  },
  {
   "cell_type": "code",
   "execution_count": null,
   "outputs": [],
   "source": [
    "!pip install abstcal\n",
    "# the test version\n",
    "# !pip install -i https://test.pypi.org/simple/ abstcal-ycui1"
   ],
   "metadata": {
    "collapsed": false,
    "pycharm": {
     "name": "#%%\n"
    }
   }
  },
  {
   "cell_type": "markdown",
   "source": [
    "### 1. Import the package\n",
    "Before you use this package, please make sure that your datasets have been pre-processed\n",
    "to have the correct format. You can find more information about the required format of the datasets\n",
    "on the package's GitHub page."
   ],
   "metadata": {
    "collapsed": false,
    "pycharm": {
     "name": "#%% md\n"
    }
   }
  },
  {
   "cell_type": "code",
   "execution_count": null,
   "outputs": [],
   "source": [
    "from abstcal import TLFBData, VisitData, AbstinenceCalculator"
   ],
   "metadata": {
    "collapsed": false,
    "pycharm": {
     "name": "#%%\n"
    }
   }
  },
  {
   "cell_type": "markdown",
   "source": [
    "### 2. Prepare the visit dataset\n"
   ],
   "metadata": {
    "collapsed": false,
    "pycharm": {
     "name": "#%% md\n"
    }
   }
  },
  {
   "cell_type": "code",
   "execution_count": null,
   "outputs": [],
   "source": [
    "# Import the visit dataset by specifying the path to the visit dataset\n",
    "test_visit_filepath = \"https://github.com/ycui1/abstcal/blob/dfac952bd85ac0303ec05c8578222684a600a4f8/test_visit.csv\"\n",
    "visit_data = VisitData(test_visit_filepath)"
   ],
   "metadata": {
    "collapsed": false,
    "pycharm": {
     "name": "#%%\n"
    }
   }
  },
  {
   "cell_type": "code",
   "execution_count": null,
   "outputs": [],
   "source": [
    "# Profile the visit data\n",
    "visit_data.profile_data()"
   ],
   "metadata": {
    "collapsed": false,
    "pycharm": {
     "name": "#%%\n"
    }
   }
  },
  {
   "cell_type": "code",
   "execution_count": null,
   "outputs": [],
   "source": [
    "# Calculate the retention rates (optional)\n",
    "visit_data.get_retention_rates()"
   ],
   "metadata": {
    "collapsed": false,
    "pycharm": {
     "name": "#%%\n"
    }
   }
  },
  {
   "cell_type": "code",
   "execution_count": null,
   "outputs": [],
   "source": [
    "# Check if any subjects have their visit dates out of the correct order\n",
    "visit_data.get_out_of_order_visit_data()"
   ],
   "metadata": {
    "collapsed": false,
    "pycharm": {
     "name": "#%%\n"
    }
   }
  },
  {
   "cell_type": "code",
   "execution_count": null,
   "outputs": [],
   "source": [
    "# Remove any records with missing id, visit, or date\n",
    "visit_data.drop_na_records()"
   ],
   "metadata": {
    "collapsed": false,
    "pycharm": {
     "name": "#%%\n"
    }
   }
  },
  {
   "cell_type": "code",
   "execution_count": null,
   "outputs": [],
   "source": [
    "# Impute the visit dataset by filling the missing dates. By default, it will impute the\n",
    "# missing dates using the most frequent interval since the reference date\n",
    "visit_data.impute_data()"
   ],
   "metadata": {
    "collapsed": false,
    "pycharm": {
     "name": "#%%\n"
    }
   }
  },
  {
   "cell_type": "markdown",
   "source": [
    "### 3. Prepare the biochemical verification measures dataset"
   ],
   "metadata": {
    "collapsed": false,
    "pycharm": {
     "name": "#%% md\n"
    }
   }
  },
  {
   "cell_type": "code",
   "execution_count": null,
   "outputs": [],
   "source": [
    "# Read the CO data, by specifying the abstinence cutoff, which will be used in later processing steps\n",
    "test_co_filepath = \"https://github.com/ycui1/abstcal/blob/dfac952bd85ac0303ec05c8578222684a600a4f8/test_co.csv\"\n",
    "co_data = TLFBData(test_co_filepath, abst_cutoff=4)"
   ],
   "metadata": {
    "collapsed": false,
    "pycharm": {
     "name": "#%%\n"
    }
   }
  },
  {
   "cell_type": "code",
   "execution_count": null,
   "outputs": [],
   "source": [
    "# Profile the CO data\n",
    "co_data.profile_data()"
   ],
   "metadata": {
    "collapsed": false,
    "pycharm": {
     "name": "#%%\n"
    }
   }
  },
  {
   "cell_type": "code",
   "execution_count": null,
   "outputs": [],
   "source": [
    "# Interpolate the biochemical data by specifying the half life in days and the number\n",
    "# of days for interpolation preceding the current measurement day\n",
    "co_data.interpolate_biochemical_data(0.25, 1)"
   ],
   "metadata": {
    "collapsed": false,
    "pycharm": {
     "name": "#%%\n"
    }
   }
  },
  {
   "cell_type": "code",
   "execution_count": null,
   "outputs": [],
   "source": [
    "# After the interpolation, you can profile the CO data again if needed\n",
    "co_data.profile_data()"
   ],
   "metadata": {
    "collapsed": false,
    "pycharm": {
     "name": "#%%\n"
    }
   }
  },
  {
   "cell_type": "code",
   "execution_count": null,
   "outputs": [],
   "source": [
    "# Remove any records with missing id, date, or amount\n",
    "co_data.drop_na_records()"
   ],
   "metadata": {
    "collapsed": false,
    "pycharm": {
     "name": "#%%\n"
    }
   }
  },
  {
   "cell_type": "code",
   "execution_count": null,
   "outputs": [],
   "source": [
    "# Check and remove any duplicates\n",
    "co_data.check_duplicates()"
   ],
   "metadata": {
    "collapsed": false,
    "pycharm": {
     "name": "#%%\n"
    }
   }
  },
  {
   "cell_type": "markdown",
   "source": [
    "### 4. Prepare the TLFB dataset"
   ],
   "metadata": {
    "collapsed": false,
    "pycharm": {
     "name": "#%% md\n"
    }
   }
  },
  {
   "cell_type": "code",
   "execution_count": null,
   "outputs": [],
   "source": [
    "# Read the TLFB dataset, by default, the abstinence cutoff is zero usage\n",
    "test_tlfb_filepath = \"https://github.com/ycui1/abstcal/blob/dfac952bd85ac0303ec05c8578222684a600a4f8/test_tlfb.csv\"\n",
    "tlfb_data = TLFBData(test_tlfb_filepath)"
   ],
   "metadata": {
    "collapsed": false,
    "pycharm": {
     "name": "#%%\n"
    }
   }
  },
  {
   "cell_type": "code",
   "execution_count": null,
   "outputs": [],
   "source": [
    "# Profile the TLFB data\n",
    "tlfb_data.profile_data()"
   ],
   "metadata": {
    "collapsed": false,
    "pycharm": {
     "name": "#%%\n"
    }
   }
  },
  {
   "cell_type": "code",
   "execution_count": null,
   "outputs": [],
   "source": [
    "# Drop any records with missing id, date, or amount\n",
    "tlfb_data.drop_na_records()"
   ],
   "metadata": {
    "collapsed": false,
    "pycharm": {
     "name": "#%%\n"
    }
   }
  },
  {
   "cell_type": "code",
   "execution_count": null,
   "outputs": [],
   "source": [
    "# Check and remove any duplicates\n",
    "tlfb_data.check_duplicates()"
   ],
   "metadata": {
    "collapsed": false,
    "pycharm": {
     "name": "#%%\n"
    }
   }
  },
  {
   "cell_type": "code",
   "execution_count": null,
   "outputs": [],
   "source": [
    "# Recode the TLFB data to remove any outliers\n",
    "tlfb_data.recode_data()"
   ],
   "metadata": {
    "collapsed": false,
    "pycharm": {
     "name": "#%%\n"
    }
   }
  },
  {
   "cell_type": "code",
   "execution_count": null,
   "outputs": [],
   "source": [
    "# Impute the TLFB data, an important while optional argument is the biochemical data\n",
    "# It will help invalidate false negatives\n",
    "tlfb_data.impute_data(biochemical_data=co_data)"
   ],
   "metadata": {
    "collapsed": false,
    "pycharm": {
     "name": "#%%\n"
    }
   }
  },
  {
   "cell_type": "markdown",
   "source": [
    "### 5. Calculate Abstinence\n",
    "After you have cleaned up the TLFB and visit data, you're ready to calculate abstinence.\n"
   ],
   "metadata": {
    "collapsed": false,
    "pycharm": {
     "name": "#%% md\n"
    }
   }
  },
  {
   "cell_type": "code",
   "execution_count": null,
   "outputs": [],
   "source": [
    "# Create the calculator by passing the TLFB and visit data\n",
    "calculator = AbstinenceCalculator(tlfb_data, visit_data)"
   ],
   "metadata": {
    "collapsed": false,
    "pycharm": {
     "name": "#%%\n"
    }
   }
  },
  {
   "cell_type": "code",
   "execution_count": null,
   "outputs": [],
   "source": [
    "# Calculate the 7-day point-prevalence for visits 3 and 4\n",
    "abst_pp7, lapses_pp7 = calculator.abstinence_pp([3, 4], 7)"
   ],
   "metadata": {
    "collapsed": false,
    "pycharm": {
     "name": "#%%\n"
    }
   }
  },
  {
   "cell_type": "code",
   "execution_count": null,
   "outputs": [],
   "source": [
    "# Calculate the continuous abstinence for visits 3 and 4\n",
    "abst_cont, lapses_cont = calculator.abstinence_cont(1, [3, 4])"
   ],
   "metadata": {
    "collapsed": false,
    "pycharm": {
     "name": "#%%\n"
    }
   }
  },
  {
   "cell_type": "code",
   "execution_count": null,
   "outputs": [],
   "source": [
    "# Calculate the prolonged abstinence without lapses for visits 3 and 4\n",
    "abst_prol, lapses_prol = calculator.abstinence_prolonged(1, [3, 4], False)"
   ],
   "metadata": {
    "collapsed": false,
    "pycharm": {
     "name": "#%%\n"
    }
   }
  },
  {
   "cell_type": "code",
   "execution_count": null,
   "outputs": [],
   "source": [
    "# Calculate the prolonged abstinence with lapses (> 5 cigs) for visits 3 and 4\n",
    "abst_pros, lapses_pros = calculator.abstinence_prolonged(1, [3, 4], \"5 cigs\")"
   ],
   "metadata": {
    "collapsed": false,
    "pycharm": {
     "name": "#%%\n"
    }
   }
  },
  {
   "cell_type": "markdown",
   "source": [
    "### 6. Merge and export data"
   ],
   "metadata": {
    "collapsed": false,
    "pycharm": {
     "name": "#%% md\n"
    }
   }
  },
  {
   "cell_type": "code",
   "execution_count": null,
   "outputs": [],
   "source": [
    "# Replace the target_filepath to where you want to save your merged datafile\n",
    "abst_filepath = \"merged_abst.csv\"\n",
    "abst_merged = calculator.merge_abst_data([abst_pp7, abst_cont, abst_prol, abst_pros], abst_filepath)"
   ],
   "metadata": {
    "collapsed": false,
    "pycharm": {
     "name": "#%%\n"
    }
   }
  },
  {
   "cell_type": "code",
   "execution_count": null,
   "outputs": [],
   "source": [
    "lapses_filepath = \"merged_lapses.csv\"\n",
    "lapses_merged = calculator.merge_lapse_data([lapses_pp7, lapses_cont, lapses_prol, lapses_pros], lapses_filepath)"
   ],
   "metadata": {
    "collapsed": false,
    "pycharm": {
     "name": "#%%\n"
    }
   }
  }
 ],
 "metadata": {
  "kernelspec": {
   "display_name": "Python 3",
   "language": "python",
   "name": "python3"
  },
  "language_info": {
   "codemirror_mode": {
    "name": "ipython",
    "version": 2
   },
   "file_extension": ".py",
   "mimetype": "text/x-python",
   "name": "python",
   "nbconvert_exporter": "python",
   "pygments_lexer": "ipython2",
   "version": "2.7.6"
  }
 },
 "nbformat": 4,
 "nbformat_minor": 0
}