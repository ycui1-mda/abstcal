{
 "cells": [
  {
   "cell_type": "markdown",
   "source": [
    "### 0. Install the package\n",
    "You need to install the abstcal package first. If you've done this already, you can skip this step."
   ],
   "metadata": {
    "collapsed": false,
    "pycharm": {
     "name": "#%% md\n"
    }
   }
  },
  {
   "cell_type": "code",
   "execution_count": 11,
   "outputs": [
    {
     "name": "stdout",
     "output_type": "stream",
     "text": [
      "Looking in indexes: https://test.pypi.org/simple/\r\n",
      "Requirement already satisfied: abstcal-ycui1 in /Users/ycui1/PycharmProjects/Abstinence_Calculator (0.4)\r\n"
     ]
    }
   ],
   "source": [
    "# !pip install abstcal\n",
    "# the test version\n",
    "!pip install -i https://test.pypi.org/simple/ abstcal-ycui1"
   ],
   "metadata": {
    "collapsed": false,
    "pycharm": {
     "name": "#%%\n"
    }
   }
  },
  {
   "cell_type": "markdown",
   "source": [
    "### 1. Import the package\n",
    "Before you use this package, please make sure that your datasets have been pre-processed\n",
    "to have the correct format. You can find more information about the required format of the datasets\n",
    "on the package's GitHub page."
   ],
   "metadata": {
    "collapsed": false,
    "pycharm": {
     "name": "#%% md\n"
    }
   }
  },
  {
   "cell_type": "code",
   "execution_count": 26,
   "outputs": [],
   "source": [
    "from abstcal import TLFBData, VisitData, AbstinenceCalculator"
   ],
   "metadata": {
    "collapsed": false,
    "pycharm": {
     "name": "#%%\n"
    }
   }
  },
  {
   "cell_type": "markdown",
   "source": [
    "### 2. Prepare the visit dataset\n"
   ],
   "metadata": {
    "collapsed": false,
    "pycharm": {
     "name": "#%% md\n"
    }
   }
  },
  {
   "cell_type": "code",
   "execution_count": 27,
   "outputs": [],
   "source": [
    "# Import the visit dataset by specifying the path to the visit dataset\n",
    "test_visit_filepath = \"test_visit.csv\"\n",
    "# test_visit_filepath = \"https://github.com/ycui1/abstcal/blob/dfac952bd85ac0303ec05c8578222684a600a4f8/test_visit.csv\"\n",
    "visit_data = VisitData(test_visit_filepath)"
   ],
   "metadata": {
    "collapsed": false,
    "pycharm": {
     "name": "#%%\n"
    }
   }
  },
  {
   "cell_type": "code",
   "execution_count": 15,
   "outputs": [
    {
     "data": {
      "text/plain": "<Figure size 864x216 with 4 Axes>",
      "image/png": "[encoded data removed]"
     },
     "metadata": {
      "needs_background": "light"
     },
     "output_type": "display_data"
    },
    {
     "data": {
      "text/plain": "(record_count                                                               193\n subject_count                                                               50\n visit_count                                                                  5\n distinct_visits                                                [0, 1, 2, 3, 4]\n min_date                                                   2017-05-06 00:00:00\n max_date                                                   2019-08-18 00:00:00\n missing_subject_count                                                        0\n missing_visit_count                                                          0\n missing_date_count                                                           0\n duplicate_count                                                              0\n anchor_visit                                                                 0\n v1_v0_interval_days_range                                              19 - 31\n v1_v0_interval_days_min5     [(1008, 19), (1018, 19), (1002, 20), (1040, 20...\n v1_v0_interval_days_max5     [(1047, 31), (1025, 29), (1050, 28), (1049, 28...\n v2_v0_interval_days_range                                              46 - 77\n v2_v0_interval_days_min5     [(1044, 46), (1040, 48), (1005, 49), (1007, 49...\n v2_v0_interval_days_max5     [(1013, 77), (1050, 63), (1049, 63), (1047, 63...\n v3_v0_interval_days_range                                              77 - 91\n v3_v0_interval_days_min5     [(1007, 77), (1011, 77), (1018, 77), (1027, 77...\n v3_v0_interval_days_max5     [(1023, 91), (1024, 90), (1010, 87), (1006, 86...\n v4_v0_interval_days_range                                             98 - 176\n v4_v0_interval_days_min5     [(1015, 98), (1008, 103), (1003, 105), (1007, ...\n v4_v0_interval_days_max5     [(1046, 176), (1016, 140), (1023, 130), (1044,...\n visit_0_attendance                                                50 (100.00%)\n visit_1_attendance                                                 45 (90.00%)\n visit_2_attendance                                                 36 (72.00%)\n visit_3_attendance                                                 33 (66.00%)\n visit_4_attendance                                                 29 (58.00%)\n dtype: object,\n       record_count   date_min   date_max  date_interval  duplicates_count  \\\n id                                                                          \n 1001             5 2017-08-03 2017-11-18            107               0.0   \n 1002             2 2017-08-01 2017-08-21             20               0.0   \n 1003             5 2017-05-06 2017-08-19            105               0.0   \n 1004             2 2017-08-20 2017-09-13             24               0.0   \n 1005             5 2017-05-19 2017-09-15            119               0.0   \n 1006             5 2017-10-09 2018-02-07            121               0.0   \n 1007             5 2017-09-12 2017-12-26            105               0.0   \n 1008             5 2017-07-29 2017-11-09            103               0.0   \n 1009             2 2017-07-14 2017-08-08             25               0.0   \n 1010             4 2017-11-06 2018-02-01             87               0.0   \n 1011             5 2017-11-17 2018-03-08            111               0.0   \n 1012             2 2017-08-27 2017-09-17             21               0.0   \n 1013             4 2017-10-21 2018-02-03            105               0.0   \n 1014             4 2018-01-31 2018-05-16            105               0.0   \n 1015             5 2017-10-09 2018-01-15             98               0.0   \n 1016             5 2017-12-27 2018-05-16            140               0.0   \n 1017             4 2018-01-02 2018-03-27             84               0.0   \n 1018             4 2018-03-31 2018-07-14            105               0.0   \n 1019             2 2018-04-01 2018-04-29             28               0.0   \n 1020             1 2018-02-21 2018-02-21              0               0.0   \n 1021             5 2017-12-23 2018-04-07            105               0.0   \n 1022             1 2017-12-30 2017-12-30              0               0.0   \n 1023             5 2018-05-08 2018-09-15            130               0.0   \n 1024             5 2018-05-31 2018-09-20            112               0.0   \n 1025             3 2017-12-15 2018-02-09             56               0.0   \n 1026             1 2018-01-08 2018-01-08              0               0.0   \n 1027             5 2018-06-15 2018-09-28            105               0.0   \n 1028             1 2018-07-30 2018-07-30              0               0.0   \n 1029             2 2018-06-23 2018-07-15             22               0.0   \n 1030             3 2018-07-26 2018-10-13             79               0.0   \n 1031             5 2018-07-18 2018-10-31            105               0.0   \n 1032             3 2018-11-05 2018-12-24             49               0.0   \n 1033             4 2019-02-03 2019-04-23             79               0.0   \n 1034             5 2018-06-04 2018-09-17            105               0.0   \n 1035             4 2018-11-08 2019-01-27             80               0.0   \n 1036             4 2018-08-16 2018-11-01             77               0.0   \n 1037             3 2018-09-25 2018-12-11             77               0.0   \n 1038             5 2018-09-09 2018-12-23            105               0.0   \n 1039             4 2019-01-20 2019-05-05            105               0.0   \n 1040             5 2018-11-14 2019-03-05            111               0.0   \n 1041             2 2019-02-05 2019-02-26             21               0.0   \n 1042             2 2019-01-10 2019-01-31             21               0.0   \n 1043             5 2019-04-04 2019-07-18            105               0.0   \n 1044             5 2019-04-13 2019-08-14            123               0.0   \n 1045             5 2018-11-13 2019-02-26            105               0.0   \n 1046             5 2019-01-15 2019-07-10            176               0.0   \n 1047             5 2019-05-05 2019-08-18            105               0.0   \n 1048             5 2019-04-15 2019-08-05            112               0.0   \n 1049             5 2019-02-17 2019-06-02            105               0.0   \n 1050             5 2019-04-16 2019-07-30            105               0.0   \n \n       visit_dates_out_of_order  \n id                              \n 1001                     False  \n 1002                     False  \n 1003                     False  \n 1004                     False  \n 1005                     False  \n 1006                     False  \n 1007                     False  \n 1008                     False  \n 1009                     False  \n 1010                     False  \n 1011                     False  \n 1012                     False  \n 1013                     False  \n 1014                     False  \n 1015                     False  \n 1016                     False  \n 1017                     False  \n 1018                     False  \n 1019                     False  \n 1020                     False  \n 1021                     False  \n 1022                     False  \n 1023                     False  \n 1024                     False  \n 1025                     False  \n 1026                     False  \n 1027                     False  \n 1028                     False  \n 1029                     False  \n 1030                     False  \n 1031                     False  \n 1032                     False  \n 1033                     False  \n 1034                     False  \n 1035                     False  \n 1036                     False  \n 1037                     False  \n 1038                     False  \n 1039                     False  \n 1040                     False  \n 1041                     False  \n 1042                     False  \n 1043                     False  \n 1044                     False  \n 1045                     False  \n 1046                     False  \n 1047                     False  \n 1048                     False  \n 1049                     False  \n 1050                     False  )"
     },
     "execution_count": 15,
     "metadata": {},
     "output_type": "execute_result"
    }
   ],
   "source": [
    "# Profile the visit data\n",
    "visit_data.profile_data()"
   ],
   "metadata": {
    "collapsed": false,
    "pycharm": {
     "name": "#%%\n"
    }
   }
  },
  {
   "cell_type": "code",
   "execution_count": 16,
   "outputs": [
    {
     "data": {
      "text/plain": "       subject_count retention_rate attrition_rate attendance_rate\nvisit                                                             \n0                 50        100.00%          0.00%         100.00%\n1                 46         92.00%          8.00%          90.00%\n2                 38         76.00%         24.00%          72.00%\n3                 36         72.00%         28.00%          66.00%\n4                 29         58.00%         42.00%          58.00%",
      "text/html": "<div>\n<style scoped>\n    .dataframe tbody tr th:only-of-type {\n        vertical-align: middle;\n    }\n\n    .dataframe tbody tr th {\n        vertical-align: top;\n    }\n\n    .dataframe thead th {\n        text-align: right;\n    }\n</style>\n<table border=\"1\" class=\"dataframe\">\n  <thead>\n    <tr style=\"text-align: right;\">\n      <th></th>\n      <th>subject_count</th>\n      <th>retention_rate</th>\n      <th>attrition_rate</th>\n      <th>attendance_rate</th>\n    </tr>\n    <tr>\n      <th>visit</th>\n      <th></th>\n      <th></th>\n      <th></th>\n      <th></th>\n    </tr>\n  </thead>\n  <tbody>\n    <tr>\n      <th>0</th>\n      <td>50</td>\n      <td>100.00%</td>\n      <td>0.00%</td>\n      <td>100.00%</td>\n    </tr>\n    <tr>\n      <th>1</th>\n      <td>46</td>\n      <td>92.00%</td>\n      <td>8.00%</td>\n      <td>90.00%</td>\n    </tr>\n    <tr>\n      <th>2</th>\n      <td>38</td>\n      <td>76.00%</td>\n      <td>24.00%</td>\n      <td>72.00%</td>\n    </tr>\n    <tr>\n      <th>3</th>\n      <td>36</td>\n      <td>72.00%</td>\n      <td>28.00%</td>\n      <td>66.00%</td>\n    </tr>\n    <tr>\n      <th>4</th>\n      <td>29</td>\n      <td>58.00%</td>\n      <td>42.00%</td>\n      <td>58.00%</td>\n    </tr>\n  </tbody>\n</table>\n</div>"
     },
     "execution_count": 16,
     "metadata": {},
     "output_type": "execute_result"
    }
   ],
   "source": [
    "# Calculate the retention rates (optional)\n",
    "visit_data.get_retention_rates()"
   ],
   "metadata": {
    "collapsed": false,
    "pycharm": {
     "name": "#%%\n"
    }
   }
  },
  {
   "cell_type": "code",
   "execution_count": 17,
   "outputs": [
    {
     "data": {
      "text/plain": "Empty DataFrame\nColumns: [id, visit, date]\nIndex: []",
      "text/html": "<div>\n<style scoped>\n    .dataframe tbody tr th:only-of-type {\n        vertical-align: middle;\n    }\n\n    .dataframe tbody tr th {\n        vertical-align: top;\n    }\n\n    .dataframe thead th {\n        text-align: right;\n    }\n</style>\n<table border=\"1\" class=\"dataframe\">\n  <thead>\n    <tr style=\"text-align: right;\">\n      <th></th>\n      <th>id</th>\n      <th>visit</th>\n      <th>date</th>\n    </tr>\n  </thead>\n  <tbody>\n  </tbody>\n</table>\n</div>"
     },
     "execution_count": 17,
     "metadata": {},
     "output_type": "execute_result"
    }
   ],
   "source": [
    "# Check if any subjects have their visit dates out of the correct order\n",
    "visit_data.get_out_of_order_visit_data()"
   ],
   "metadata": {
    "collapsed": false,
    "pycharm": {
     "name": "#%%\n"
    }
   }
  },
  {
   "cell_type": "code",
   "execution_count": 18,
   "outputs": [
    {
     "data": {
      "text/plain": "0"
     },
     "execution_count": 18,
     "metadata": {},
     "output_type": "execute_result"
    }
   ],
   "source": [
    "# Remove any records with missing id, visit, or date\n",
    "visit_data.drop_na_records()"
   ],
   "metadata": {
    "collapsed": false,
    "pycharm": {
     "name": "#%%\n"
    }
   }
  },
  {
   "cell_type": "code",
   "execution_count": 28,
   "outputs": [
    {
     "ename": "TypeError",
     "evalue": "Invalid comparison between dtype=float64 and Timestamp",
     "output_type": "error",
     "traceback": [
      "\u001B[0;31m---------------------------------------------------------------------------\u001B[0m",
      "\u001B[0;31mTypeError\u001B[0m                                 Traceback (most recent call last)",
      "\u001B[0;32m<ipython-input-28-4d8bbecd8555>\u001B[0m in \u001B[0;36m<module>\u001B[0;34m\u001B[0m\n\u001B[1;32m      3\u001B[0m \u001B[0mfloor_date\u001B[0m \u001B[0;34m=\u001B[0m \u001B[0;34m\"2000-07-01\"\u001B[0m\u001B[0;34m\u001B[0m\u001B[0;34m\u001B[0m\u001B[0m\n\u001B[1;32m      4\u001B[0m \u001B[0mceil_date\u001B[0m \u001B[0;34m=\u001B[0m \u001B[0;34m\"2200-07-01\"\u001B[0m\u001B[0;34m\u001B[0m\u001B[0;34m\u001B[0m\u001B[0m\n\u001B[0;32m----> 5\u001B[0;31m \u001B[0mvisit_data\u001B[0m\u001B[0;34m.\u001B[0m\u001B[0mrecode_outliers\u001B[0m\u001B[0;34m(\u001B[0m\u001B[0mfloor_date\u001B[0m\u001B[0;34m,\u001B[0m \u001B[0mceil_date\u001B[0m\u001B[0;34m)\u001B[0m\u001B[0;34m\u001B[0m\u001B[0;34m\u001B[0m\u001B[0m\n\u001B[0m\u001B[1;32m      6\u001B[0m \u001B[0;34m\u001B[0m\u001B[0m\n",
      "\u001B[0;32m~/PycharmProjects/Abstinence_Calculator/abstcal/abstinence_calculator.py\u001B[0m in \u001B[0;36mrecode_outliers\u001B[0;34m(self, floor_date, ceil_date, drop_outliers)\u001B[0m\n",
      "\u001B[0;32m~/.conda/envs/Abstinence_Calculator/lib/python3.8/site-packages/pandas/core/ops/common.py\u001B[0m in \u001B[0;36mnew_method\u001B[0;34m(self, other)\u001B[0m\n\u001B[1;32m     62\u001B[0m         \u001B[0mother\u001B[0m \u001B[0;34m=\u001B[0m \u001B[0mitem_from_zerodim\u001B[0m\u001B[0;34m(\u001B[0m\u001B[0mother\u001B[0m\u001B[0;34m)\u001B[0m\u001B[0;34m\u001B[0m\u001B[0;34m\u001B[0m\u001B[0m\n\u001B[1;32m     63\u001B[0m \u001B[0;34m\u001B[0m\u001B[0m\n\u001B[0;32m---> 64\u001B[0;31m         \u001B[0;32mreturn\u001B[0m \u001B[0mmethod\u001B[0m\u001B[0;34m(\u001B[0m\u001B[0mself\u001B[0m\u001B[0;34m,\u001B[0m \u001B[0mother\u001B[0m\u001B[0;34m)\u001B[0m\u001B[0;34m\u001B[0m\u001B[0;34m\u001B[0m\u001B[0m\n\u001B[0m\u001B[1;32m     65\u001B[0m \u001B[0;34m\u001B[0m\u001B[0m\n\u001B[1;32m     66\u001B[0m     \u001B[0;32mreturn\u001B[0m \u001B[0mnew_method\u001B[0m\u001B[0;34m\u001B[0m\u001B[0;34m\u001B[0m\u001B[0m\n",
      "\u001B[0;32m~/.conda/envs/Abstinence_Calculator/lib/python3.8/site-packages/pandas/core/ops/__init__.py\u001B[0m in \u001B[0;36mwrapper\u001B[0;34m(self, other)\u001B[0m\n\u001B[1;32m    527\u001B[0m         \u001B[0mrvalues\u001B[0m \u001B[0;34m=\u001B[0m \u001B[0mextract_array\u001B[0m\u001B[0;34m(\u001B[0m\u001B[0mother\u001B[0m\u001B[0;34m,\u001B[0m \u001B[0mextract_numpy\u001B[0m\u001B[0;34m=\u001B[0m\u001B[0;32mTrue\u001B[0m\u001B[0;34m)\u001B[0m\u001B[0;34m\u001B[0m\u001B[0;34m\u001B[0m\u001B[0m\n\u001B[1;32m    528\u001B[0m \u001B[0;34m\u001B[0m\u001B[0m\n\u001B[0;32m--> 529\u001B[0;31m         \u001B[0mres_values\u001B[0m \u001B[0;34m=\u001B[0m \u001B[0mcomparison_op\u001B[0m\u001B[0;34m(\u001B[0m\u001B[0mlvalues\u001B[0m\u001B[0;34m,\u001B[0m \u001B[0mrvalues\u001B[0m\u001B[0;34m,\u001B[0m \u001B[0mop\u001B[0m\u001B[0;34m)\u001B[0m\u001B[0;34m\u001B[0m\u001B[0;34m\u001B[0m\u001B[0m\n\u001B[0m\u001B[1;32m    530\u001B[0m \u001B[0;34m\u001B[0m\u001B[0m\n\u001B[1;32m    531\u001B[0m         \u001B[0;32mreturn\u001B[0m \u001B[0m_construct_result\u001B[0m\u001B[0;34m(\u001B[0m\u001B[0mself\u001B[0m\u001B[0;34m,\u001B[0m \u001B[0mres_values\u001B[0m\u001B[0;34m,\u001B[0m \u001B[0mindex\u001B[0m\u001B[0;34m=\u001B[0m\u001B[0mself\u001B[0m\u001B[0;34m.\u001B[0m\u001B[0mindex\u001B[0m\u001B[0;34m,\u001B[0m \u001B[0mname\u001B[0m\u001B[0;34m=\u001B[0m\u001B[0mres_name\u001B[0m\u001B[0;34m)\u001B[0m\u001B[0;34m\u001B[0m\u001B[0;34m\u001B[0m\u001B[0m\n",
      "\u001B[0;32m~/.conda/envs/Abstinence_Calculator/lib/python3.8/site-packages/pandas/core/ops/array_ops.py\u001B[0m in \u001B[0;36mcomparison_op\u001B[0;34m(left, right, op)\u001B[0m\n\u001B[1;32m    254\u001B[0m \u001B[0;34m\u001B[0m\u001B[0m\n\u001B[1;32m    255\u001B[0m         \u001B[0;32mif\u001B[0m \u001B[0mres_values\u001B[0m \u001B[0;32mis\u001B[0m \u001B[0mNotImplemented\u001B[0m\u001B[0;34m:\u001B[0m\u001B[0;34m\u001B[0m\u001B[0;34m\u001B[0m\u001B[0m\n\u001B[0;32m--> 256\u001B[0;31m             \u001B[0mres_values\u001B[0m \u001B[0;34m=\u001B[0m \u001B[0minvalid_comparison\u001B[0m\u001B[0;34m(\u001B[0m\u001B[0mlvalues\u001B[0m\u001B[0;34m,\u001B[0m \u001B[0mrvalues\u001B[0m\u001B[0;34m,\u001B[0m \u001B[0mop\u001B[0m\u001B[0;34m)\u001B[0m\u001B[0;34m\u001B[0m\u001B[0;34m\u001B[0m\u001B[0m\n\u001B[0m\u001B[1;32m    257\u001B[0m         \u001B[0;32mif\u001B[0m \u001B[0mis_scalar\u001B[0m\u001B[0;34m(\u001B[0m\u001B[0mres_values\u001B[0m\u001B[0;34m)\u001B[0m\u001B[0;34m:\u001B[0m\u001B[0;34m\u001B[0m\u001B[0;34m\u001B[0m\u001B[0m\n\u001B[1;32m    258\u001B[0m             \u001B[0mtyp\u001B[0m \u001B[0;34m=\u001B[0m \u001B[0mtype\u001B[0m\u001B[0;34m(\u001B[0m\u001B[0mrvalues\u001B[0m\u001B[0;34m)\u001B[0m\u001B[0;34m\u001B[0m\u001B[0;34m\u001B[0m\u001B[0m\n",
      "\u001B[0;32m~/.conda/envs/Abstinence_Calculator/lib/python3.8/site-packages/pandas/core/ops/invalid.py\u001B[0m in \u001B[0;36minvalid_comparison\u001B[0;34m(left, right, op)\u001B[0m\n\u001B[1;32m     32\u001B[0m     \u001B[0;32melse\u001B[0m\u001B[0;34m:\u001B[0m\u001B[0;34m\u001B[0m\u001B[0;34m\u001B[0m\u001B[0m\n\u001B[1;32m     33\u001B[0m         \u001B[0mtyp\u001B[0m \u001B[0;34m=\u001B[0m \u001B[0mtype\u001B[0m\u001B[0;34m(\u001B[0m\u001B[0mright\u001B[0m\u001B[0;34m)\u001B[0m\u001B[0;34m.\u001B[0m\u001B[0m__name__\u001B[0m\u001B[0;34m\u001B[0m\u001B[0;34m\u001B[0m\u001B[0m\n\u001B[0;32m---> 34\u001B[0;31m         \u001B[0;32mraise\u001B[0m \u001B[0mTypeError\u001B[0m\u001B[0;34m(\u001B[0m\u001B[0;34mf\"Invalid comparison between dtype={left.dtype} and {typ}\"\u001B[0m\u001B[0;34m)\u001B[0m\u001B[0;34m\u001B[0m\u001B[0;34m\u001B[0m\u001B[0m\n\u001B[0m\u001B[1;32m     35\u001B[0m     \u001B[0;32mreturn\u001B[0m \u001B[0mres_values\u001B[0m\u001B[0;34m\u001B[0m\u001B[0;34m\u001B[0m\u001B[0m\n\u001B[1;32m     36\u001B[0m \u001B[0;34m\u001B[0m\u001B[0m\n",
      "\u001B[0;31mTypeError\u001B[0m: Invalid comparison between dtype=float64 and Timestamp"
     ]
    }
   ],
   "source": [
    "# (Optional) Remove outliers if any is identified in the profiling\n",
    "# Set the proper bounding dates for the dataset\n",
    "floor_date = \"2000-07-01\"\n",
    "ceil_date = \"2200-07-01\"\n",
    "visit_data.recode_outliers(floor_date, ceil_date)"
   ],
   "metadata": {
    "collapsed": false,
    "pycharm": {
     "name": "#%%\n"
    }
   }
  },
  {
   "cell_type": "code",
   "execution_count": null,
   "outputs": [],
   "source": [
    "# Impute the visit dataset by filling the missing dates. By default, it will impute the\n",
    "# missing dates using the most frequent interval since the reference date\n",
    "visit_data.impute_data()"
   ],
   "metadata": {
    "collapsed": false,
    "pycharm": {
     "name": "#%%\n"
    }
   }
  },
  {
   "cell_type": "markdown",
   "source": [
    "### 3. Prepare the biochemical verification measures dataset"
   ],
   "metadata": {
    "collapsed": false,
    "pycharm": {
     "name": "#%% md\n"
    }
   }
  },
  {
   "cell_type": "code",
   "execution_count": null,
   "outputs": [],
   "source": [
    "# Read the CO data, by specifying the abstinence cutoff, which will be used in later processing steps\n",
    "# test_co_filepath = \"https://github.com/ycui1/abstcal/blob/dfac952bd85ac0303ec05c8578222684a600a4f8/test_co.csv\"\n",
    "test_co_filepath = \"test_co.csv\"\n",
    "co_data = TLFBData(test_co_filepath, abst_cutoff=4)"
   ],
   "metadata": {
    "collapsed": false,
    "pycharm": {
     "name": "#%%\n"
    }
   }
  },
  {
   "cell_type": "code",
   "execution_count": null,
   "outputs": [],
   "source": [
    "# Profile the CO data\n",
    "co_data.profile_data()"
   ],
   "metadata": {
    "collapsed": false,
    "pycharm": {
     "name": "#%%\n"
    }
   }
  },
  {
   "cell_type": "code",
   "execution_count": null,
   "outputs": [],
   "source": [
    "# Interpolate the biochemical data by specifying the half life in days and the number\n",
    "# of days for interpolation preceding the current measurement day\n",
    "co_data.interpolate_biochemical_data(0.25, 1)"
   ],
   "metadata": {
    "collapsed": false,
    "pycharm": {
     "name": "#%%\n"
    }
   }
  },
  {
   "cell_type": "code",
   "execution_count": null,
   "outputs": [],
   "source": [
    "# After the interpolation, you can profile the CO data again if needed\n",
    "co_data.profile_data()"
   ],
   "metadata": {
    "collapsed": false,
    "pycharm": {
     "name": "#%%\n"
    }
   }
  },
  {
   "cell_type": "code",
   "execution_count": null,
   "outputs": [],
   "source": [
    "# Remove any records with missing id, date, or amount\n",
    "co_data.drop_na_records()"
   ],
   "metadata": {
    "collapsed": false,
    "pycharm": {
     "name": "#%%\n"
    }
   }
  },
  {
   "cell_type": "code",
   "execution_count": null,
   "outputs": [],
   "source": [
    "# Check and remove any duplicates\n",
    "co_data.check_duplicates()"
   ],
   "metadata": {
    "collapsed": false,
    "pycharm": {
     "name": "#%%\n"
    }
   }
  },
  {
   "cell_type": "markdown",
   "source": [
    "### 4. Prepare the TLFB dataset"
   ],
   "metadata": {
    "collapsed": false,
    "pycharm": {
     "name": "#%% md\n"
    }
   }
  },
  {
   "cell_type": "code",
   "execution_count": null,
   "outputs": [],
   "source": [
    "# Read the TLFB dataset, by default, the abstinence cutoff is zero usage\n",
    "test_tlfb_filepath = \"https://github.com/ycui1/abstcal/blob/dfac952bd85ac0303ec05c8578222684a600a4f8/test_tlfb.csv\"\n",
    "tlfb_data = TLFBData(test_tlfb_filepath)"
   ],
   "metadata": {
    "collapsed": false,
    "pycharm": {
     "name": "#%%\n"
    }
   }
  },
  {
   "cell_type": "code",
   "execution_count": null,
   "outputs": [],
   "source": [
    "# Profile the TLFB data\n",
    "tlfb_data.profile_data()"
   ],
   "metadata": {
    "collapsed": false,
    "pycharm": {
     "name": "#%%\n"
    }
   }
  },
  {
   "cell_type": "code",
   "execution_count": null,
   "outputs": [],
   "source": [
    "# Drop any records with missing id, date, or amount\n",
    "tlfb_data.drop_na_records()"
   ],
   "metadata": {
    "collapsed": false,
    "pycharm": {
     "name": "#%%\n"
    }
   }
  },
  {
   "cell_type": "code",
   "execution_count": null,
   "outputs": [],
   "source": [
    "# Check and remove any duplicates\n",
    "tlfb_data.check_duplicates()"
   ],
   "metadata": {
    "collapsed": false,
    "pycharm": {
     "name": "#%%\n"
    }
   }
  },
  {
   "cell_type": "code",
   "execution_count": null,
   "outputs": [],
   "source": [
    "# Recode the TLFB data to remove any outliers\n",
    "tlfb_data.recode_data()"
   ],
   "metadata": {
    "collapsed": false,
    "pycharm": {
     "name": "#%%\n"
    }
   }
  },
  {
   "cell_type": "code",
   "execution_count": null,
   "outputs": [],
   "source": [
    "# Impute the TLFB data, an important while optional argument is the biochemical data\n",
    "# It will help invalidate false negatives\n",
    "tlfb_data.impute_data(biochemical_data=co_data)"
   ],
   "metadata": {
    "collapsed": false,
    "pycharm": {
     "name": "#%%\n"
    }
   }
  },
  {
   "cell_type": "markdown",
   "source": [
    "### 5. Calculate Abstinence\n",
    "After you have cleaned up the TLFB and visit data, you're ready to calculate abstinence.\n"
   ],
   "metadata": {
    "collapsed": false,
    "pycharm": {
     "name": "#%% md\n"
    }
   }
  },
  {
   "cell_type": "code",
   "execution_count": null,
   "outputs": [],
   "source": [
    "# Create the calculator by passing the TLFB and visit data\n",
    "calculator = AbstinenceCalculator(tlfb_data, visit_data)"
   ],
   "metadata": {
    "collapsed": false,
    "pycharm": {
     "name": "#%%\n"
    }
   }
  },
  {
   "cell_type": "code",
   "execution_count": null,
   "outputs": [],
   "source": [
    "# Calculate the 7-day point-prevalence for visits 3 and 4\n",
    "abst_pp7, lapses_pp7 = calculator.abstinence_pp([3, 4], 7)"
   ],
   "metadata": {
    "collapsed": false,
    "pycharm": {
     "name": "#%%\n"
    }
   }
  },
  {
   "cell_type": "code",
   "execution_count": null,
   "outputs": [],
   "source": [
    "# Calculate the continuous abstinence for visits 3 and 4\n",
    "abst_cont, lapses_cont = calculator.abstinence_cont(1, [3, 4])"
   ],
   "metadata": {
    "collapsed": false,
    "pycharm": {
     "name": "#%%\n"
    }
   }
  },
  {
   "cell_type": "code",
   "execution_count": null,
   "outputs": [],
   "source": [
    "# Calculate the prolonged abstinence without lapses for visits 3 and 4\n",
    "abst_prol, lapses_prol = calculator.abstinence_prolonged(1, [3, 4], False)"
   ],
   "metadata": {
    "collapsed": false,
    "pycharm": {
     "name": "#%%\n"
    }
   }
  },
  {
   "cell_type": "code",
   "execution_count": null,
   "outputs": [],
   "source": [
    "# Calculate the prolonged abstinence with lapses (> 5 cigs) for visits 3 and 4\n",
    "abst_pros, lapses_pros = calculator.abstinence_prolonged(1, [3, 4], \"5 cigs\")"
   ],
   "metadata": {
    "collapsed": false,
    "pycharm": {
     "name": "#%%\n"
    }
   }
  },
  {
   "cell_type": "markdown",
   "source": [
    "### 6. Merge and export data"
   ],
   "metadata": {
    "collapsed": false,
    "pycharm": {
     "name": "#%% md\n"
    }
   }
  },
  {
   "cell_type": "code",
   "execution_count": null,
   "outputs": [],
   "source": [
    "# Replace the target_filepath to where you want to save your merged datafile\n",
    "abst_filepath = \"merged_abst.csv\"\n",
    "abst_merged = calculator.merge_abst_data([abst_pp7, abst_cont, abst_prol, abst_pros], abst_filepath)"
   ],
   "metadata": {
    "collapsed": false,
    "pycharm": {
     "name": "#%%\n"
    }
   }
  },
  {
   "cell_type": "code",
   "execution_count": null,
   "outputs": [],
   "source": [
    "lapses_filepath = \"merged_lapses.csv\"\n",
    "lapses_merged = calculator.merge_lapse_data([lapses_pp7, lapses_cont, lapses_prol, lapses_pros], lapses_filepath)"
   ],
   "metadata": {
    "collapsed": false,
    "pycharm": {
     "name": "#%%\n"
    }
   }
  }
 ],
 "metadata": {
  "kernelspec": {
   "display_name": "Python 3",
   "language": "python",
   "name": "python3"
  },
  "language_info": {
   "codemirror_mode": {
    "name": "ipython",
    "version": 2
   },
   "file_extension": ".py",
   "mimetype": "text/x-python",
   "name": "python",
   "nbconvert_exporter": "python",
   "pygments_lexer": "ipython2",
   "version": "2.7.6"
  }
 },
 "nbformat": 4,
 "nbformat_minor": 0
}