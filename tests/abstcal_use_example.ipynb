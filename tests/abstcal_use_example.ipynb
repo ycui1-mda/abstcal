{
 "nbformat": 4,
 "nbformat_minor": 0,
 "metadata": {
  "kernelspec": {
   "display_name": "Python 3",
   "language": "python",
   "name": "python3"
  },
  "language_info": {
   "codemirror_mode": {
    "name": "ipython",
    "version": 2
   },
   "file_extension": ".py",
   "mimetype": "text/x-python",
   "name": "python",
   "nbconvert_exporter": "python",
   "pygments_lexer": "ipython2",
   "version": "2.7.6"
  },
  "colab": {
   "name": "abstcal_use_example.ipynb",
   "provenance": [
    {
     "file_id": "https://github.com/ycui1/abstcal/blob/master/tests/abstcal_example_code.ipynb",
     "timestamp": 1601582539291
    }
   ],
   "toc_visible": true
  }
 },
 "cells": [
  {
   "cell_type": "markdown",
   "metadata": {
    "collapsed": false,
    "pycharm": {
     "name": "#%% md\n"
    },
    "id": "UCJV_lgmwcGy"
   },
   "source": [
    "### 0. Install the package\n",
    "You need to install the abstcal package first. If you've done this already, you can skip this step."
   ]
  },
  {
   "cell_type": "code",
   "metadata": {
    "pycharm": {
     "name": "#%%\n"
    },
    "id": "5ysE5BfqwcG0",
    "executionInfo": {
     "status": "ok",
     "timestamp": 1601584193695,
     "user_tz": 300,
     "elapsed": 3267,
     "user": {
      "displayName": "Yong Cui",
      "photoUrl": "",
      "userId": "14347870661285104091"
     }
    },
    "outputId": "1588557c-3340-4d22-b0ce-aa168f0ef8a4",
    "colab": {
     "base_uri": "https://localhost:8080/",
     "height": 262
    }
   },
   "source": [
    "# !pip install abstcal\n"
   ],
   "execution_count": 17,
   "outputs": [
    {
     "output_type": "stream",
     "text": [
      "Looking in indexes: https://test.pypi.org/simple/\n",
      "Collecting abstcal-ycui1==0.5\n",
      "  Downloading https://test-files.pythonhosted.org/packages/e7/bc/494ae45a9e7fdbb56e68a189f7be807e4af79548c61cc95d17d6c4ab294c/abstcal_ycui1-0.5-py3-none-any.whl\n",
      "Installing collected packages: abstcal-ycui1\n",
      "  Found existing installation: abstcal-ycui1 0.4\n",
      "    Uninstalling abstcal-ycui1-0.4:\n",
      "      Successfully uninstalled abstcal-ycui1-0.4\n",
      "Successfully installed abstcal-ycui1-0.5\n"
     ],
     "name": "stdout"
    },
    {
     "output_type": "display_data",
     "data": {
      "application/vnd.colab-display-data+json": {
       "pip_warning": {
        "packages": [
         "abstcal"
        ]
       }
      }
     },
     "metadata": {
      "tags": []
     }
    }
   ]
  },
  {
   "cell_type": "markdown",
   "metadata": {
    "collapsed": false,
    "pycharm": {
     "name": "#%% md\n"
    },
    "id": "Rlo0-D1BwcG-"
   },
   "source": [
    "### 1. Import the package\n",
    "Before you use this package, please make sure that your datasets have been pre-processed\n",
    "to have the correct format. You can find more information about the required format of the datasets\n",
    "on the package's GitHub page."
   ]
  },
  {
   "cell_type": "code",
   "metadata": {
    "pycharm": {
     "name": "#%%\n"
    },
    "id": "TQSWqw7HwcHC",
    "executionInfo": {
     "status": "ok",
     "timestamp": 1601584212864,
     "user_tz": 300,
     "elapsed": 635,
     "user": {
      "displayName": "Yong Cui",
      "photoUrl": "",
      "userId": "14347870661285104091"
     }
    }
   },
   "source": [
    "from abstcal import TLFBData, VisitData, AbstinenceCalculator"
   ],
   "execution_count": 1,
   "outputs": []
  },
  {
   "cell_type": "markdown",
   "metadata": {
    "collapsed": false,
    "pycharm": {
     "name": "#%% md\n"
    },
    "id": "2my5W4mfwcHJ"
   },
   "source": [
    "### 2. Prepare the visit dataset\n"
   ]
  },
  {
   "cell_type": "code",
   "metadata": {
    "pycharm": {
     "name": "#%%\n"
    },
    "id": "EdUPGVBOwcHL",
    "executionInfo": {
     "status": "ok",
     "timestamp": 1601584215226,
     "user_tz": 300,
     "elapsed": 394,
     "user": {
      "displayName": "Yong Cui",
      "photoUrl": "",
      "userId": "14347870661285104091"
     }
    }
   },
   "source": [
    "# Import the visit dataset by specifying the path to the visit dataset\n",
    "test_visit_filepath = \"test_visit.csv\"\n",
    "# test_visit_filepath = \"https://github.com/ycui1/abstcal/blob/dfac952bd85ac0303ec05c8578222684a600a4f8/test_visit.csv\"\n",
    "visit_data = VisitData(test_visit_filepath)"
   ],
   "execution_count": 2,
   "outputs": []
  },
  {
   "cell_type": "code",
   "metadata": {
    "pycharm": {
     "name": "#%%\n"
    },
    "id": "Tlffzo-kwcHQ"
   },
   "source": [
    "# Profile the visit data\n",
    "visit_data.profile_data()\n",
    "\n",
    "# The following line profiles the visit data and saves the output to variables\n",
    "# visit_summary_dataset, visit_summary_subject = visit_data.profile_data()"
   ],
   "execution_count": null,
   "outputs": []
  },
  {
   "cell_type": "code",
   "metadata": {
    "pycharm": {
     "name": "#%%\n"
    },
    "id": "d3ZCwRWTwcHX",
    "executionInfo": {
     "status": "ok",
     "timestamp": 1601584223458,
     "user_tz": 300,
     "elapsed": 343,
     "user": {
      "displayName": "Yong Cui",
      "photoUrl": "",
      "userId": "14347870661285104091"
     }
    },
    "outputId": "ab20f054-2f95-4ca1-b3e1-265e4a6a5dfc",
    "colab": {
     "base_uri": "https://localhost:8080/",
     "height": 238
    }
   },
   "source": [
    "# Calculate the retention rates (optional)\n",
    "visit_data.get_retention_rates()"
   ],
   "execution_count": 4,
   "outputs": [
    {
     "output_type": "execute_result",
     "data": {
      "text/html": [
       "<div>\n",
       "<style scoped>\n",
       "    .dataframe tbody tr th:only-of-type {\n",
       "        vertical-align: middle;\n",
       "    }\n",
       "\n",
       "    .dataframe tbody tr th {\n",
       "        vertical-align: top;\n",
       "    }\n",
       "\n",
       "    .dataframe thead th {\n",
       "        text-align: right;\n",
       "    }\n",
       "</style>\n",
       "<table border=\"1\" class=\"dataframe\">\n",
       "  <thead>\n",
       "    <tr style=\"text-align: right;\">\n",
       "      <th></th>\n",
       "      <th>subject_count</th>\n",
       "      <th>retention_rate</th>\n",
       "      <th>attrition_rate</th>\n",
       "      <th>attendance_rate</th>\n",
       "    </tr>\n",
       "    <tr>\n",
       "      <th>visit</th>\n",
       "      <th></th>\n",
       "      <th></th>\n",
       "      <th></th>\n",
       "      <th></th>\n",
       "    </tr>\n",
       "  </thead>\n",
       "  <tbody>\n",
       "    <tr>\n",
       "      <th>0</th>\n",
       "      <td>50</td>\n",
       "      <td>100.00%</td>\n",
       "      <td>0.00%</td>\n",
       "      <td>100.00%</td>\n",
       "    </tr>\n",
       "    <tr>\n",
       "      <th>1</th>\n",
       "      <td>46</td>\n",
       "      <td>92.00%</td>\n",
       "      <td>8.00%</td>\n",
       "      <td>90.00%</td>\n",
       "    </tr>\n",
       "    <tr>\n",
       "      <th>2</th>\n",
       "      <td>38</td>\n",
       "      <td>76.00%</td>\n",
       "      <td>24.00%</td>\n",
       "      <td>72.00%</td>\n",
       "    </tr>\n",
       "    <tr>\n",
       "      <th>3</th>\n",
       "      <td>36</td>\n",
       "      <td>72.00%</td>\n",
       "      <td>28.00%</td>\n",
       "      <td>66.00%</td>\n",
       "    </tr>\n",
       "    <tr>\n",
       "      <th>4</th>\n",
       "      <td>29</td>\n",
       "      <td>58.00%</td>\n",
       "      <td>42.00%</td>\n",
       "      <td>58.00%</td>\n",
       "    </tr>\n",
       "  </tbody>\n",
       "</table>\n",
       "</div>"
      ],
      "text/plain": [
       "       subject_count retention_rate attrition_rate attendance_rate\n",
       "visit                                                             \n",
       "0                 50        100.00%          0.00%         100.00%\n",
       "1                 46         92.00%          8.00%          90.00%\n",
       "2                 38         76.00%         24.00%          72.00%\n",
       "3                 36         72.00%         28.00%          66.00%\n",
       "4                 29         58.00%         42.00%          58.00%"
      ]
     },
     "metadata": {
      "tags": []
     },
     "execution_count": 4
    }
   ]
  },
  {
   "cell_type": "code",
   "metadata": {
    "pycharm": {
     "name": "#%%\n"
    },
    "id": "2MkvNvrgwcHd",
    "executionInfo": {
     "status": "ok",
     "timestamp": 1601584750155,
     "user_tz": 300,
     "elapsed": 402,
     "user": {
      "displayName": "Yong Cui",
      "photoUrl": "",
      "userId": "14347870661285104091"
     }
    },
    "outputId": "89c800c3-c977-4aa4-893e-31eea4e64e1c",
    "colab": {
     "base_uri": "https://localhost:8080/",
     "height": 49
    }
   },
   "source": [
    "# Check if any subjects have their visit dates out of the correct order\n",
    "visit_data.get_out_of_order_visit_data()"
   ],
   "execution_count": 7,
   "outputs": [
    {
     "output_type": "execute_result",
     "data": {
      "text/html": [
       "<div>\n",
       "<style scoped>\n",
       "    .dataframe tbody tr th:only-of-type {\n",
       "        vertical-align: middle;\n",
       "    }\n",
       "\n",
       "    .dataframe tbody tr th {\n",
       "        vertical-align: top;\n",
       "    }\n",
       "\n",
       "    .dataframe thead th {\n",
       "        text-align: right;\n",
       "    }\n",
       "</style>\n",
       "<table border=\"1\" class=\"dataframe\">\n",
       "  <thead>\n",
       "    <tr style=\"text-align: right;\">\n",
       "      <th></th>\n",
       "      <th>id</th>\n",
       "      <th>visit</th>\n",
       "      <th>date</th>\n",
       "    </tr>\n",
       "  </thead>\n",
       "  <tbody>\n",
       "  </tbody>\n",
       "</table>\n",
       "</div>"
      ],
      "text/plain": [
       "Empty DataFrame\n",
       "Columns: [id, visit, date]\n",
       "Index: []"
      ]
     },
     "metadata": {
      "tags": []
     },
     "execution_count": 7
    }
   ]
  },
  {
   "cell_type": "code",
   "metadata": {
    "pycharm": {
     "name": "#%%\n"
    },
    "id": "UuiHa4w8wcHj",
    "executionInfo": {
     "status": "ok",
     "timestamp": 1601584746209,
     "user_tz": 300,
     "elapsed": 390,
     "user": {
      "displayName": "Yong Cui",
      "photoUrl": "",
      "userId": "14347870661285104091"
     }
    },
    "outputId": "b97968d5-e8af-4cad-bc7d-deb2ca27db16",
    "colab": {
     "base_uri": "https://localhost:8080/",
     "height": 34
    }
   },
   "source": [
    "# Remove any records with missing id, visit, or date\n",
    "visit_data.drop_na_records()"
   ],
   "execution_count": 6,
   "outputs": [
    {
     "output_type": "execute_result",
     "data": {
      "text/plain": [
       "0"
      ]
     },
     "metadata": {
      "tags": []
     },
     "execution_count": 6
    }
   ]
  },
  {
   "cell_type": "code",
   "metadata": {
    "pycharm": {
     "name": "#%%\n"
    },
    "id": "r7j7JH-CwcHn",
    "executionInfo": {
     "status": "ok",
     "timestamp": 1601584227516,
     "user_tz": 300,
     "elapsed": 335,
     "user": {
      "displayName": "Yong Cui",
      "photoUrl": "",
      "userId": "14347870661285104091"
     }
    },
    "outputId": "db858e4d-0a61-4e01-dc00-6a5a96617d8c",
    "colab": {
     "base_uri": "https://localhost:8080/",
     "height": 52
    }
   },
   "source": [
    "# (Optional) Remove outliers if any is identified in the profiling\n",
    "# Set the proper bounding dates for the dataset\n",
    "floor_date = \"2000-07-01\"\n",
    "ceil_date = \"2200-07-01\"\n",
    "visit_data.recode_outliers(floor_date, ceil_date)"
   ],
   "execution_count": 5,
   "outputs": [
    {
     "output_type": "execute_result",
     "data": {
      "text/plain": [
       "{'Number of outliers (< 07/01/2000)': 0,\n",
       " 'Number of outliers (> 07/01/2200)': 0}"
      ]
     },
     "metadata": {
      "tags": []
     },
     "execution_count": 5
    }
   ]
  },
  {
   "cell_type": "code",
   "metadata": {
    "pycharm": {
     "name": "#%%\n"
    },
    "id": "96pvQVftwcHt",
    "executionInfo": {
     "status": "ok",
     "timestamp": 1601584760393,
     "user_tz": 300,
     "elapsed": 378,
     "user": {
      "displayName": "Yong Cui",
      "photoUrl": "",
      "userId": "14347870661285104091"
     }
    },
    "outputId": "8892ac2c-8917-4e53-fd54-88417ac0a223",
    "colab": {
     "base_uri": "https://localhost:8080/",
     "height": 112
    }
   },
   "source": [
    "# Impute the visit dataset by filling the missing dates. By default, it will impute the\n",
    "# missing dates using the most frequent interval since the reference date\n",
    "visit_data.impute_data()"
   ],
   "execution_count": 8,
   "outputs": [
    {
     "output_type": "execute_result",
     "data": {
      "text/html": [
       "<div>\n",
       "<style scoped>\n",
       "    .dataframe tbody tr th:only-of-type {\n",
       "        vertical-align: middle;\n",
       "    }\n",
       "\n",
       "    .dataframe tbody tr th {\n",
       "        vertical-align: top;\n",
       "    }\n",
       "\n",
       "    .dataframe thead th {\n",
       "        text-align: right;\n",
       "    }\n",
       "</style>\n",
       "<table border=\"1\" class=\"dataframe\">\n",
       "  <thead>\n",
       "    <tr style=\"text-align: right;\">\n",
       "      <th></th>\n",
       "      <th>imputation_code</th>\n",
       "      <th>record_count</th>\n",
       "    </tr>\n",
       "  </thead>\n",
       "  <tbody>\n",
       "    <tr>\n",
       "      <th>0</th>\n",
       "      <td>RAW</td>\n",
       "      <td>193</td>\n",
       "    </tr>\n",
       "    <tr>\n",
       "      <th>1</th>\n",
       "      <td>IMPUTED</td>\n",
       "      <td>57</td>\n",
       "    </tr>\n",
       "  </tbody>\n",
       "</table>\n",
       "</div>"
      ],
      "text/plain": [
       "  imputation_code  record_count\n",
       "0             RAW           193\n",
       "1         IMPUTED            57"
      ]
     },
     "metadata": {
      "tags": []
     },
     "execution_count": 8
    }
   ]
  },
  {
   "cell_type": "markdown",
   "metadata": {
    "collapsed": false,
    "pycharm": {
     "name": "#%% md\n"
    },
    "id": "I2T5qe66wcHx"
   },
   "source": [
    "### 3. Prepare the biochemical verification measures dataset"
   ]
  },
  {
   "cell_type": "code",
   "metadata": {
    "pycharm": {
     "name": "#%%\n"
    },
    "id": "scDpNNmiwcHz",
    "executionInfo": {
     "status": "ok",
     "timestamp": 1601584783606,
     "user_tz": 300,
     "elapsed": 314,
     "user": {
      "displayName": "Yong Cui",
      "photoUrl": "",
      "userId": "14347870661285104091"
     }
    }
   },
   "source": [
    "# Read the CO data, by specifying the abstinence cutoff, which will be used in later processing steps\n",
    "# test_co_filepath = \"https://github.com/ycui1/abstcal/blob/dfac952bd85ac0303ec05c8578222684a600a4f8/test_co.csv\"\n",
    "test_co_filepath = \"test_co.csv\"\n",
    "co_data = TLFBData(test_co_filepath, abst_cutoff=4)"
   ],
   "execution_count": 9,
   "outputs": []
  },
  {
   "cell_type": "code",
   "metadata": {
    "pycharm": {
     "name": "#%%\n"
    },
    "id": "2rol95jpwcH3",
    "executionInfo": {
     "status": "ok",
     "timestamp": 1601584827178,
     "user_tz": 300,
     "elapsed": 521,
     "user": {
      "displayName": "Yong Cui",
      "photoUrl": "",
      "userId": "14347870661285104091"
     }
    },
    "outputId": "2f6cdfee-cd4d-4c53-9423-296242ebebf3",
    "colab": {
     "base_uri": "https://localhost:8080/",
     "height": 1000
    }
   },
   "source": [
    "# Profile the CO data\n",
    "co_data.profile_data()\n",
    "\n",
    "# The following line profiles the visit data and saves the output to variables\n",
    "# co_summary_dataset, co_summary_subject = co_data.profile_data()"
   ],
   "execution_count": 11,
   "outputs": [
    {
     "output_type": "stream",
     "text": [
      "/usr/local/lib/python3.6/dist-packages/seaborn/distributions.py:2551: FutureWarning: `distplot` is a deprecated function and will be removed in a future version. Please adapt your code to use either `displot` (a figure-level function with similar flexibility) or `histplot` (an axes-level function for histograms).\n",
      "  warnings.warn(msg, FutureWarning)\n"
     ],
     "name": "stderr"
    },
    {
     "output_type": "display_data",
     "data": {
      "image/png": "[encoded data removed]",
      "text/plain": [
       "<Figure size 432x288 with 1 Axes>"
      ]
     },
     "metadata": {
      "tags": [],
      "needs_background": "light"
     }
    },
    {
     "output_type": "execute_result",
     "data": {
      "text/plain": [
       "(record_count                                                               188\n",
       " subject_count                                                               50\n",
       " records_per_subject_mean                                                  3.76\n",
       " records_per_subject_range                                                1 - 5\n",
       " min_date                                                   2017-05-06 00:00:00\n",
       " max_date                                                   2019-08-18 00:00:00\n",
       " min_amount                                                                   0\n",
       " max_amount                                                                  66\n",
       " max_amount_5_records         [(1013, 11/18/2017, 66.0), (1013, 10/21/2017, ...\n",
       " min_amount_5_records         [(1005, 09/15/2017, 0.0), (1011, 02/02/2018, 0...\n",
       " missing_subject_count                                                        0\n",
       " missing_date_count                                                           0\n",
       " missing_amount_count                                                         0\n",
       " duplicate_count                                                              0\n",
       " dtype: object,\n",
       "       record_count   date_min  ... amount_mean  duplicates_count\n",
       " id                             ...                              \n",
       " 1001             5 2017-08-03  ...   22.600000               0.0\n",
       " 1002             2 2017-08-01  ...    7.000000               0.0\n",
       " 1003             5 2017-05-06  ...   20.000000               0.0\n",
       " 1004             2 2017-08-20  ...   11.500000               0.0\n",
       " 1005             5 2017-05-19  ...    5.200000               0.0\n",
       " 1006             5 2017-10-09  ...    8.400000               0.0\n",
       " 1007             5 2017-09-12  ...   13.000000               0.0\n",
       " 1008             5 2017-07-29  ...   17.400000               0.0\n",
       " 1009             2 2017-07-14  ...   16.000000               0.0\n",
       " 1010             4 2017-11-06  ...   12.500000               0.0\n",
       " 1011             5 2017-11-17  ...   19.800000               0.0\n",
       " 1012             2 2017-08-27  ...   36.500000               0.0\n",
       " 1013             4 2017-10-21  ...   46.250000               0.0\n",
       " 1014             4 2018-01-31  ...   24.000000               0.0\n",
       " 1015             5 2017-10-09  ...   13.200000               0.0\n",
       " 1016             5 2017-12-27  ...   11.200000               0.0\n",
       " 1017             4 2018-01-02  ...    7.500000               0.0\n",
       " 1018             3 2018-03-31  ...   10.666667               0.0\n",
       " 1019             2 2018-04-01  ...   21.500000               0.0\n",
       " 1020             1 2018-02-21  ...    8.000000               0.0\n",
       " 1021             5 2017-12-23  ...   17.800000               0.0\n",
       " 1022             1 2017-12-30  ...   41.000000               0.0\n",
       " 1023             5 2018-05-08  ...   15.800000               0.0\n",
       " 1024             5 2018-05-31  ...   17.200000               0.0\n",
       " 1025             3 2017-12-15  ...   10.333333               0.0\n",
       " 1026             1 2018-01-08  ...   42.000000               0.0\n",
       " 1027             5 2018-06-15  ...    2.600000               0.0\n",
       " 1028             1 2018-07-30  ...   34.000000               0.0\n",
       " 1029             2 2018-06-23  ...   13.500000               0.0\n",
       " 1030             3 2018-07-26  ...   18.000000               0.0\n",
       " 1031             5 2018-07-18  ...    6.000000               0.0\n",
       " 1032             3 2018-11-05  ...    6.666667               0.0\n",
       " 1033             4 2019-02-03  ...   12.250000               0.0\n",
       " 1034             5 2018-06-04  ...   15.600000               0.0\n",
       " 1035             2 2018-11-08  ...   16.500000               0.0\n",
       " 1036             4 2018-08-16  ...   22.000000               0.0\n",
       " 1037             1 2018-09-25  ...    8.000000               0.0\n",
       " 1038             5 2018-09-09  ...    2.400000               0.0\n",
       " 1039             4 2019-01-20  ...    5.750000               0.0\n",
       " 1040             5 2018-11-14  ...    7.200000               0.0\n",
       " 1041             2 2019-02-05  ...   10.500000               0.0\n",
       " 1042             2 2019-01-10  ...   47.500000               0.0\n",
       " 1043             5 2019-04-04  ...    5.200000               0.0\n",
       " 1044             5 2019-04-13  ...   18.800000               0.0\n",
       " 1045             5 2018-11-13  ...    5.800000               0.0\n",
       " 1046             5 2019-01-15  ...   15.600000               0.0\n",
       " 1047             5 2019-05-05  ...   17.600000               0.0\n",
       " 1048             5 2019-04-15  ...   22.600000               0.0\n",
       " 1049             5 2019-02-17  ...   19.200000               0.0\n",
       " 1050             5 2019-04-16  ...   15.600000               0.0\n",
       " \n",
       " [50 rows x 7 columns])"
      ]
     },
     "metadata": {
      "tags": []
     },
     "execution_count": 11
    }
   ]
  },
  {
   "cell_type": "code",
   "metadata": {
    "pycharm": {
     "name": "#%%\n"
    },
    "id": "g0vKM5BRwcH8",
    "executionInfo": {
     "status": "ok",
     "timestamp": 1601584832353,
     "user_tz": 300,
     "elapsed": 294,
     "user": {
      "displayName": "Yong Cui",
      "photoUrl": "",
      "userId": "14347870661285104091"
     }
    },
    "outputId": "6b63998f-3d26-4565-9f84-bb6e64107456",
    "colab": {
     "base_uri": "https://localhost:8080/",
     "height": 34
    }
   },
   "source": [
    "# Interpolate the biochemical data by specifying the half life in days and the number\n",
    "# of days for interpolation preceding the current measurement day\n",
    "co_data.interpolate_biochemical_data(0.25, 1)"
   ],
   "execution_count": 12,
   "outputs": [
    {
     "output_type": "execute_result",
     "data": {
      "text/plain": [
       "141"
      ]
     },
     "metadata": {
      "tags": []
     },
     "execution_count": 12
    }
   ]
  },
  {
   "cell_type": "code",
   "metadata": {
    "pycharm": {
     "name": "#%%\n"
    },
    "id": "TOYXDRjcwcIB"
   },
   "source": [
    "# After the interpolation, you can profile the CO data again if needed\n",
    "co_data.profile_data()"
   ],
   "execution_count": null,
   "outputs": []
  },
  {
   "cell_type": "code",
   "metadata": {
    "pycharm": {
     "name": "#%%\n"
    },
    "id": "JUNina8swcIG",
    "executionInfo": {
     "status": "ok",
     "timestamp": 1601584849436,
     "user_tz": 300,
     "elapsed": 338,
     "user": {
      "displayName": "Yong Cui",
      "photoUrl": "",
      "userId": "14347870661285104091"
     }
    },
    "outputId": "e9fe1b47-db9d-4a64-fe0e-bb593786338a",
    "colab": {
     "base_uri": "https://localhost:8080/",
     "height": 34
    }
   },
   "source": [
    "# Remove any records with missing id, date, or amount\n",
    "co_data.drop_na_records()"
   ],
   "execution_count": 14,
   "outputs": [
    {
     "output_type": "execute_result",
     "data": {
      "text/plain": [
       "0"
      ]
     },
     "metadata": {
      "tags": []
     },
     "execution_count": 14
    }
   ]
  },
  {
   "cell_type": "code",
   "metadata": {
    "pycharm": {
     "name": "#%%\n"
    },
    "id": "vl374KQpwcIJ",
    "executionInfo": {
     "status": "ok",
     "timestamp": 1601584852177,
     "user_tz": 300,
     "elapsed": 335,
     "user": {
      "displayName": "Yong Cui",
      "photoUrl": "",
      "userId": "14347870661285104091"
     }
    },
    "outputId": "4d46c809-5ae4-4621-b479-6023ecaca6b8",
    "colab": {
     "base_uri": "https://localhost:8080/",
     "height": 34
    }
   },
   "source": [
    "# Check and remove any duplicates\n",
    "co_data.check_duplicates()"
   ],
   "execution_count": 15,
   "outputs": [
    {
     "output_type": "execute_result",
     "data": {
      "text/plain": [
       "0"
      ]
     },
     "metadata": {
      "tags": []
     },
     "execution_count": 15
    }
   ]
  },
  {
   "cell_type": "markdown",
   "metadata": {
    "collapsed": false,
    "pycharm": {
     "name": "#%% md\n"
    },
    "id": "rEFknx-VwcIO"
   },
   "source": [
    "### 4. Prepare the TLFB dataset"
   ]
  },
  {
   "cell_type": "code",
   "metadata": {
    "pycharm": {
     "name": "#%%\n"
    },
    "id": "QUJQy8tswcIO",
    "executionInfo": {
     "status": "ok",
     "timestamp": 1601584873526,
     "user_tz": 300,
     "elapsed": 281,
     "user": {
      "displayName": "Yong Cui",
      "photoUrl": "",
      "userId": "14347870661285104091"
     }
    }
   },
   "source": [
    "# Read the TLFB dataset, by default, the abstinence cutoff is zero usage\n",
    "# test_tlfb_filepath = \"https://github.com/ycui1/abstcal/blob/dfac952bd85ac0303ec05c8578222684a600a4f8/test_tlfb.csv\"\n",
    "test_tlfb_filepath = \"test_tlfb.csv\"\n",
    "tlfb_data = TLFBData(test_tlfb_filepath)"
   ],
   "execution_count": 16,
   "outputs": []
  },
  {
   "cell_type": "code",
   "metadata": {
    "pycharm": {
     "name": "#%%\n"
    },
    "id": "oGRaV7KEwcIS"
   },
   "source": [
    "# Profile the TLFB data\n",
    "tlfb_data.profile_data()"
   ],
   "execution_count": null,
   "outputs": []
  },
  {
   "cell_type": "code",
   "metadata": {
    "pycharm": {
     "name": "#%%\n"
    },
    "id": "FZCST8vGwcIV",
    "executionInfo": {
     "status": "ok",
     "timestamp": 1601584882183,
     "user_tz": 300,
     "elapsed": 286,
     "user": {
      "displayName": "Yong Cui",
      "photoUrl": "",
      "userId": "14347870661285104091"
     }
    },
    "outputId": "faa1ab14-9246-42d3-fd43-bb6960704489",
    "colab": {
     "base_uri": "https://localhost:8080/",
     "height": 34
    }
   },
   "source": [
    "# Drop any records with missing id, date, or amount\n",
    "tlfb_data.drop_na_records()"
   ],
   "execution_count": 18,
   "outputs": [
    {
     "output_type": "execute_result",
     "data": {
      "text/plain": [
       "0"
      ]
     },
     "metadata": {
      "tags": []
     },
     "execution_count": 18
    }
   ]
  },
  {
   "cell_type": "code",
   "metadata": {
    "pycharm": {
     "name": "#%%\n"
    },
    "id": "lzICLAavwcIY",
    "executionInfo": {
     "status": "ok",
     "timestamp": 1601584885537,
     "user_tz": 300,
     "elapsed": 325,
     "user": {
      "displayName": "Yong Cui",
      "photoUrl": "",
      "userId": "14347870661285104091"
     }
    },
    "outputId": "f5b76f4d-aac7-4f0c-a2d3-2f58df51a6ea",
    "colab": {
     "base_uri": "https://localhost:8080/",
     "height": 34
    }
   },
   "source": [
    "# Check and remove any duplicates\n",
    "tlfb_data.check_duplicates()"
   ],
   "execution_count": 19,
   "outputs": [
    {
     "output_type": "execute_result",
     "data": {
      "text/plain": [
       "0"
      ]
     },
     "metadata": {
      "tags": []
     },
     "execution_count": 19
    }
   ]
  },
  {
   "cell_type": "code",
   "metadata": {
    "pycharm": {
     "name": "#%%\n"
    },
    "id": "b1U1Kk8OwcId",
    "executionInfo": {
     "status": "ok",
     "timestamp": 1601584911174,
     "user_tz": 300,
     "elapsed": 394,
     "user": {
      "displayName": "Yong Cui",
      "photoUrl": "",
      "userId": "14347870661285104091"
     }
    },
    "outputId": "c0293a45-8480-4ce4-b5c2-a2175d1a4aa5",
    "colab": {
     "base_uri": "https://localhost:8080/",
     "height": 34
    }
   },
   "source": [
    "# Recode the TLFB data to remove any outliers\n",
    "tlfb_data.recode_outliers(0, 120)"
   ],
   "execution_count": 21,
   "outputs": [
    {
     "output_type": "execute_result",
     "data": {
      "text/plain": [
       "{'Number of outliers (< 0)': 0, 'Number of outliers (> 120)': 0}"
      ]
     },
     "metadata": {
      "tags": []
     },
     "execution_count": 21
    }
   ]
  },
  {
   "cell_type": "code",
   "metadata": {
    "pycharm": {
     "name": "#%%\n"
    },
    "id": "m6KsStdewcIg",
    "executionInfo": {
     "status": "ok",
     "timestamp": 1601584922397,
     "user_tz": 300,
     "elapsed": 1654,
     "user": {
      "displayName": "Yong Cui",
      "photoUrl": "",
      "userId": "14347870661285104091"
     }
    },
    "outputId": "9e918f46-1f55-49c4-ec06-41ffc7d7d137",
    "colab": {
     "base_uri": "https://localhost:8080/",
     "height": 143
    }
   },
   "source": [
    "# Impute the TLFB data, an important while optional argument is the biochemical data\n",
    "# It will help invalidate false negatives\n",
    "tlfb_data.impute_data(biochemical_data=co_data)"
   ],
   "execution_count": 22,
   "outputs": [
    {
     "output_type": "execute_result",
     "data": {
      "text/html": [
       "<div>\n",
       "<style scoped>\n",
       "    .dataframe tbody tr th:only-of-type {\n",
       "        vertical-align: middle;\n",
       "    }\n",
       "\n",
       "    .dataframe tbody tr th {\n",
       "        vertical-align: top;\n",
       "    }\n",
       "\n",
       "    .dataframe thead th {\n",
       "        text-align: right;\n",
       "    }\n",
       "</style>\n",
       "<table border=\"1\" class=\"dataframe\">\n",
       "  <thead>\n",
       "    <tr style=\"text-align: right;\">\n",
       "      <th></th>\n",
       "      <th>imputation_code</th>\n",
       "      <th>record_count</th>\n",
       "    </tr>\n",
       "  </thead>\n",
       "  <tbody>\n",
       "    <tr>\n",
       "      <th>0</th>\n",
       "      <td>RAW</td>\n",
       "      <td>5515</td>\n",
       "    </tr>\n",
       "    <tr>\n",
       "      <th>1</th>\n",
       "      <td>IMPUTED</td>\n",
       "      <td>50</td>\n",
       "    </tr>\n",
       "    <tr>\n",
       "      <th>2</th>\n",
       "      <td>OVERRIDDEN</td>\n",
       "      <td>28</td>\n",
       "    </tr>\n",
       "  </tbody>\n",
       "</table>\n",
       "</div>"
      ],
      "text/plain": [
       "  imputation_code  record_count\n",
       "0             RAW          5515\n",
       "1         IMPUTED            50\n",
       "2      OVERRIDDEN            28"
      ]
     },
     "metadata": {
      "tags": []
     },
     "execution_count": 22
    }
   ]
  },
  {
   "cell_type": "markdown",
   "metadata": {
    "collapsed": false,
    "pycharm": {
     "name": "#%% md\n"
    },
    "id": "cNGDw-2jwcIm"
   },
   "source": [
    "### 5. Calculate Abstinence\n",
    "After you have cleaned up the TLFB and visit data, you're ready to calculate abstinence.\n"
   ]
  },
  {
   "cell_type": "code",
   "metadata": {
    "pycharm": {
     "name": "#%%\n"
    },
    "id": "D4Cu-1Y6wcIm",
    "executionInfo": {
     "status": "ok",
     "timestamp": 1601584937653,
     "user_tz": 300,
     "elapsed": 320,
     "user": {
      "displayName": "Yong Cui",
      "photoUrl": "",
      "userId": "14347870661285104091"
     }
    }
   },
   "source": [
    "# Create the calculator by passing the TLFB and visit data\n",
    "calculator = AbstinenceCalculator(tlfb_data, visit_data)"
   ],
   "execution_count": 23,
   "outputs": []
  },
  {
   "cell_type": "code",
   "metadata": {
    "pycharm": {
     "name": "#%%\n"
    },
    "id": "O6_Se8dLwcIp",
    "executionInfo": {
     "status": "ok",
     "timestamp": 1601585123069,
     "user_tz": 300,
     "elapsed": 628,
     "user": {
      "displayName": "Yong Cui",
      "photoUrl": "",
      "userId": "14347870661285104091"
     }
    }
   },
   "source": [
    "# Calculate the 7-day point-prevalence for visits 3 and 4\n",
    "abst_pp7, lapses_pp7 = calculator.abstinence_pp([3, 4], 7)"
   ],
   "execution_count": 24,
   "outputs": []
  },
  {
   "cell_type": "code",
   "metadata": {
    "pycharm": {
     "name": "#%%\n"
    },
    "id": "vO66e_wBwcIt",
    "executionInfo": {
     "status": "ok",
     "timestamp": 1601585127835,
     "user_tz": 300,
     "elapsed": 718,
     "user": {
      "displayName": "Yong Cui",
      "photoUrl": "",
      "userId": "14347870661285104091"
     }
    }
   },
   "source": [
    "# Calculate the continuous abstinence for visits 3 and 4\n",
    "abst_cont, lapses_cont = calculator.abstinence_cont(1, [3, 4])"
   ],
   "execution_count": 25,
   "outputs": []
  },
  {
   "cell_type": "code",
   "metadata": {
    "pycharm": {
     "name": "#%%\n"
    },
    "id": "4kPxhcaVwcIv",
    "executionInfo": {
     "status": "ok",
     "timestamp": 1601585131784,
     "user_tz": 300,
     "elapsed": 846,
     "user": {
      "displayName": "Yong Cui",
      "photoUrl": "",
      "userId": "14347870661285104091"
     }
    }
   },
   "source": [
    "# Calculate the prolonged abstinence without lapses for visits 3 and 4\n",
    "abst_prol, lapses_prol = calculator.abstinence_prolonged(1, [3, 4], False)"
   ],
   "execution_count": 26,
   "outputs": []
  },
  {
   "cell_type": "code",
   "metadata": {
    "pycharm": {
     "name": "#%%\n"
    },
    "id": "O_TTsUuJwcI0",
    "executionInfo": {
     "status": "ok",
     "timestamp": 1601585133425,
     "user_tz": 300,
     "elapsed": 692,
     "user": {
      "displayName": "Yong Cui",
      "photoUrl": "",
      "userId": "14347870661285104091"
     }
    }
   },
   "source": [
    "# Calculate the prolonged abstinence with lapses (> 5 cigs) for visits 3 and 4\n",
    "abst_pros, lapses_pros = calculator.abstinence_prolonged(1, [3, 4], \"5 cigs\")"
   ],
   "execution_count": 27,
   "outputs": []
  },
  {
   "cell_type": "markdown",
   "metadata": {
    "collapsed": false,
    "pycharm": {
     "name": "#%% md\n"
    },
    "id": "V1YOztTlwcI3"
   },
   "source": [
    "### 6. Merge and export data"
   ]
  },
  {
   "cell_type": "code",
   "metadata": {
    "pycharm": {
     "name": "#%%\n"
    },
    "id": "qu4ydWXDwcI3"
   },
   "source": [
    "# Replace the target_filepath to where you want to save your merged datafile\n",
    "abst_filepath = \"merged_abst.csv\"\n",
    "abst_merged = calculator.merge_abst_data([abst_pp7, abst_cont, abst_prol, abst_pros], abst_filepath)"
   ],
   "execution_count": null,
   "outputs": []
  },
  {
   "cell_type": "code",
   "metadata": {
    "pycharm": {
     "name": "#%%\n"
    },
    "id": "gcAvq4a-wcI6"
   },
   "source": [
    "lapses_filepath = \"merged_lapses.csv\"\n",
    "lapses_merged = calculator.merge_lapse_data([lapses_pp7, lapses_cont, lapses_prol, lapses_pros], lapses_filepath)"
   ],
   "execution_count": null,
   "outputs": []
  }
 ]
}